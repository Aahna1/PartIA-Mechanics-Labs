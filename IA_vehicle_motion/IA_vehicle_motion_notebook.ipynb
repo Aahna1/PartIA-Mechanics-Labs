{
  "nbformat": 4,
  "nbformat_minor": 0,
  "metadata": {
    "kernelspec": {
      "display_name": "Python 3",
      "language": "python",
      "name": "python3"
    },
    "language_info": {
      "codemirror_mode": {
        "name": "ipython",
        "version": 3
      },
      "file_extension": ".py",
      "mimetype": "text/x-python",
      "name": "python",
      "nbconvert_exporter": "python",
      "pygments_lexer": "ipython3",
      "version": "3.7.2"
    },
    "colab": {
      "name": "Copy of IA_vehicle_motion_notebook.ipynb",
      "provenance": []
    }
  },
  "cells": [
    {
      "cell_type": "markdown",
      "metadata": {
        "id": "19AeurbJjdeI"
      },
      "source": [
        "##### Part IA Experimental Engineering\n",
        "# First Year Mechanics Laboratory  - Experiment 1 (long)\n",
        "# Measurement of Vehicle Motion\n",
        "\n",
        "- This experiment normally takes place in the DPO, but this year the lab is being run online. \n",
        "- You need to work through this Jupyter iPython notebook, then use the figures generated to write a lab report.\n",
        "- The notebook follows the one used for the physical experiment in the DPO, agumented by videos of the experiment being conducted and matching data to analyze. If the embedded videos fail, there are direct links to panopto from the moodle site. \n",
        "- It is important to watch the videos, with sound, as they contain information you need to complete the lab.\n",
        "- The notebook can be run online in google colabs (as per instructions on moodle) or downloaded and run locally in a web-browser. \n",
        "- You do NOT need to write any Python code, apart from simple editing of some values.\n",
        "\n",
        "\n",
        "The Python code in the next cell will import some libraries and initialize and personalize the notebook. \n",
        "\n",
        "Change the watermark field to the two four-letter words provided to you by the demonstrator\n",
        "\n",
        "then run the cell (shift+enter) and proceed."
      ]
    },
    {
      "cell_type": "code",
      "metadata": {
        "id": "ynslefg951Gk"
      },
      "source": [
        "# THIS CELL SHOULD ONLY NEED TO BE RUN ONCE, AT THE BEGINNING OF THE SESSION. \n",
        "# IF YOU RESTART THE PYTHON KERNAL YOU WILL NEED TO RERUN THIS CELL\n",
        "\n",
        "# EDIT THIS LINE\n",
        "\n",
        "watermark='WordWord'  # Enter the two 4-letter words provided to you by the demonstrator. Default is watermark='WordWord'\n",
        "\n",
        "# DO NOT CHANGE ANYTHING BELOW THIS LINE\n",
        "\n",
        "#\n",
        "# Import python packages\n",
        "#\n",
        "import matplotlib.pyplot as plt\n",
        "from matplotlib.animation import FuncAnimation\n",
        "import math\n",
        "import time\n",
        "import numpy as np\n",
        "from scipy import integrate\n",
        "from IPython.display import HTML\n",
        "from numpy import loadtxt\n",
        "%matplotlib inline\n",
        "plt.rcParams.update({'font.size': 18})\n",
        "\n",
        "#\n",
        "# Initialise variables to hold the data\n",
        "#\n",
        "motiondata=np.array([],dtype='uint16') # Initialise a numpy array of unsigned 16-bit (two byte) integers\n",
        "axlist=[]  # initialise some python lists (lists are computationally more efficient than numpy arrays when we don't know the final size)\n",
        "aylist=[]\n",
        "omegazlist=[]\n",
        "tlist=[]\n",
        "counterlist=[]"
      ],
      "execution_count": null,
      "outputs": []
    },
    {
      "cell_type": "markdown",
      "metadata": {
        "id": "Ej6HqkIT6A3E"
      },
      "source": [
        "## 1. Introduction\n",
        "### 1.1 Objectives\n",
        "\n",
        "1. To learn about the operation and limitations of sensors for measuring acceleration, angular velocity, and wheel rotation angle.\n",
        "2. To assess the suitability of individual sensors and combinations of sensors for determining the motion of a vehicle.\n",
        "3. To apply the theory of planar kinematics of a particle.\n",
        "4. To experience the use of a computer program for recording and analysing measured motion data.\n",
        "\n",
        "\n",
        "### 1.2 Motivation\n",
        "- Many modern powered road vehicles (cars, motorbikes, trucks) are equipped with sensors to measure the motion of the vehicle.\n",
        "- The measured data can be used to actively control the vehicle (via its engine, brakes, suspension and steering) to improve stability, increase comfort, or provide autonomy.\n",
        "- In this experiment the focus is on measuring the motion of a car travelling in a horizontal plane.\n",
        "- The theory of particle kinematics that you learnt last term will be relevant.\n",
        "- Remember that the kinematics of a particle can be expressed in cartesian, polar or intrinsic coordinates.\n",
        "- In this experiment, intrinsic coordinates will be the most appropriate, see extract from Mechanics Data Book in Figure 1.\n",
        "- Intrinsic coordinates involve describing the motion of a particle (or car in this case) using the speed along the path and the direction (angle) of the path.\n",
        "- Note that the speed of the particle perpendicular to the path is always zero, although the acceleration perpendicular to the path may not be zero.\n",
        "\n",
        "![intrinsic.jpg](https://github.com/CambridgeEngineering/PartIA-Mechanics-Labs/blob/main/IA_vehicle_motion/accel.jpeg?raw=true)\n",
        "\n",
        "Figure 1. Extract from Mechanics Data Book: intrinsic coordinates for planar kinematics\n",
        "\n",
        "### 1.3 Equipment\n",
        "\n",
        "The experiment involves the following equipment:\n",
        "- model car\n",
        "- radio receiver (black box with antenna)\n",
        "- USB cable\n",
        "- tape measure\n",
        "\n",
        "The model car (a 1/18 scale Ferrari 488GTB) incorporates:\n",
        "- microcontroller (Arduino Nano)\n",
        "- inertial measurement unit (IMU) (Bosch BNO055)\n",
        "- optical rotary encoder (Bourns ENT1J-D28-L00128L)\n",
        "- radio transmitter (Xbee S1 2.4GHz)\n",
        "- rechargeable battery (5 V)\n",
        "\n",
        "These items are identified in Figure 2. \n",
        "\n",
        "![breadboard-labels.jpg](https://github.com/CambridgeEngineering/PartIA-Mechanics-Labs/blob/main/IA_vehicle_motion/breadboard.jpeg?raw=true)\n",
        "Figure 2: Equipment\n",
        "\n",
        "- Watch the video introducing the model car in the cell below. \n",
        "\n",
        "- You may need to run the \"code cell\" to load the video before you can watch it. \n",
        "\n",
        "- If the video doesn't work, you can find a direct panopto link on the moodle site.\n",
        "\n"
      ]
    },
    {
      "cell_type": "code",
      "metadata": {
        "id": "RhsggxAIquAa",
        "colab": {
          "base_uri": "https://localhost:8080/",
          "height": 428
        },
        "outputId": "6acf9961-4544-486f-dfa1-a58be42d6302"
      },
      "source": [
        "HTML('<iframe src=\"https://cambridgelectures.cloud.panopto.eu/Panopto/Pages/Embed.aspx?id=6dbe11f1-2a2e-4cf7-8e7a-acb501541be8&autoplay=false&offerviewer=true&showtitle=true&showbrand=false&start=0&interactivity=all\" height=\"405\" width=\"720\" style=\"border: 1px solid #464646;\" allowfullscreen allow=\"autoplay\"></iframe>')"
      ],
      "execution_count": 5,
      "outputs": [
        {
          "output_type": "execute_result",
          "data": {
            "text/html": [
              "<iframe src=\"https://cambridgelectures.cloud.panopto.eu/Panopto/Pages/Embed.aspx?id=6dbe11f1-2a2e-4cf7-8e7a-acb501541be8&autoplay=false&offerviewer=true&showtitle=true&showbrand=false&start=0&interactivity=all\" height=\"405\" width=\"720\" style=\"border: 1px solid #464646;\" allowfullscreen allow=\"autoplay\"></iframe>"
            ],
            "text/plain": [
              "<IPython.core.display.HTML object>"
            ]
          },
          "metadata": {
            "tags": []
          },
          "execution_count": 5
        }
      ]
    },
    {
      "cell_type": "markdown",
      "metadata": {
        "id": "5MNNmsIAqzB8"
      },
      "source": [
        "The first four items are described briefly in the next sections. Read these details carefully, as they will help you interpret the data from the experiment. Links to further information are provided in the Appendix.\n",
        "\n",
        "\n",
        "### 1.4 Inertial measurement unit (IMU)\n",
        "- The IMU is a System in Package (SiP), measuring 5.2mm x 3.8mm x 1.1mm.\n",
        "- The IMU is located on the longitudinal centre line of the car, above the rear axle.\n",
        "- It measures translational acceleration and angular velocity in three orthogonal axes labelled x, y, z.\n",
        "- The x,y,z axes are fixed in the car and are oriented as shown in Figure 2.\n",
        "- The IMU package includes a microcontroller which can self-calibrate the sensors and estimate absolute angular orientation, but this experiment only uses the raw measurements of longitudinal and lateral accelerations in a horizontal plane (x and y axes) and angular velocity about a vertical axis (z) also known as yaw velocity.\n",
        "\n",
        "### 1.5 Optical rotary encoder\n",
        "- The left-hand (LH) rear wheel of the vehicle is coupled to an optical rotary encoder, see Figure 2. (Left-hand when looking in the positive x direction.) \n",
        "- The encoder contains: a slotted disc that rotates with the wheel; two stationary phototransistors (light sensitive switches) on one side of the disc; and a stationary source of light on the other side of the disc.\n",
        "- When the slotted disc rotates, the light falling on the phototransistors is interrupted so that the output of each phototransistor is a square wave; the two square waves are 90 degrees out of phase with each other.\n",
        "- The microcontroller program counts the rising pulse from one of the phototransistors and uses the corresponding state of the other phototransistor to determine the direction of rotation.\n",
        "- The count has an integer value and is initialised to zero when the microcontroller is turned on.\n",
        "- The  count increases or decreases according to whether the wheel is rolling forwards or backwards.\n",
        "- One whole rotation of the wheel changes the count by 128.\n",
        "- The maximum value of the count is 32767 and the minimum value is -32768.\n",
        "- Provided that the wheel does not slip on the road, the count indicates the distance travelled by the wheel.\n",
        "- IMPORTANT NOTE: if the car is not following a straight path the distance travelled by the LH wheel may not be the same as the distance travelled by the IMU, because there is a lateral offset between the LH wheel and the IMU.\n",
        "\n",
        "![encoder-labels.jpg](https://github.com/CambridgeEngineering/PartIA-Mechanics-Labs/blob/main/IA_vehicle_motion/encoder.jpeg?raw=true)\n",
        "\n",
        "Figure 3. Optical rotary encoder attached to left-hand rear wheel\n",
        "\n",
        "### 1.6 Arduino Nano microcontroller\n",
        "- A microcontroller is a computer on a single integrated circuit, containing one or more CPUs, memory and input/output peripherals. \n",
        "- 'Arduino' is an open-source electronics platform based on easy-to-use hardware and software. \n",
        "- The Arduino Nano is a board that includes an ATmega328P microcontroller (Microchip Technology Inc.). \n",
        "- The board contains everything needed to support the microcontroller.\n",
        "- In this experiment the board is programmed to: read longitudinal and lateral acceleration and yaw velocity data from the IMU; count the pulses from the encoder; and continually send data to the personal computer via the radio link or USB cable.\n",
        "\n",
        "### 1.7 Transmitting and receiving data\n",
        "The Arduino transmits the sensor data to a radio receiver that attatches to the computer via USB. \n"
      ]
    },
    {
      "cell_type": "markdown",
      "metadata": {
        "id": "-dfsayYNjdeQ"
      },
      "source": [
        "### 1.8 Load first data set\n",
        "- For each part of the experiment, you will watch a video of the model car being moved, and then load the resulting dataset from github by running a code cell of the form:\n",
        "\n",
        "[axlist, aylist, omegazlist, counterlist,tlist] = loadtxt('https://raw.githubusercontent.com/CambridgeEngineering/PartIA-Mechanics-Labs/main/IA_vehicle_motion/data.csv', delimiter=',').tolist()\n",
        "\n",
        "- This cell loads a time series of  x-acceleration, y-acceleartion, yaw-velocities, wheel-counts to the variables  axlist, aylist, omegazlist, counterlist. The variable tlist contains the corrosponding list of times.\n",
        "\n",
        "- N.B. when you load a data-set, it will overwrite the previous one. You can always get back the earlier data set by loading it again.\n",
        "\n",
        "- We start by examining the data from a few basic trial motions of the car. This will help us understand what the sensors measure.\n",
        "\n",
        "- Use the next two cells to watch the video of the motions, and then load the data.\n",
        "\n",
        "\n",
        "\n"
      ]
    },
    {
      "cell_type": "code",
      "metadata": {
        "id": "yR0674n7YhhR",
        "colab": {
          "base_uri": "https://localhost:8080/",
          "height": 428
        },
        "outputId": "a5477a9a-bcd8-445c-833a-47c6d6db2a28"
      },
      "source": [
        "#Video Cell. You may need to run this cell to load the video before you can play it\n",
        "HTML('<iframe src=\"https://cambridgelectures.cloud.panopto.eu/Panopto/Pages/Embed.aspx?id=d3df8c31-b878-4cd3-a98c-acb501550ddd&autoplay=false&offerviewer=true&showtitle=true&showbrand=false&start=0&interactivity=all\" height=\"405\" width=\"720\" style=\"border: 1px solid #464646;\" allowfullscreen allow=\"autoplay\"></iframe>')"
      ],
      "execution_count": 6,
      "outputs": [
        {
          "output_type": "execute_result",
          "data": {
            "text/html": [
              "<iframe src=\"https://cambridgelectures.cloud.panopto.eu/Panopto/Pages/Embed.aspx?id=d3df8c31-b878-4cd3-a98c-acb501550ddd&autoplay=false&offerviewer=true&showtitle=true&showbrand=false&start=0&interactivity=all\" height=\"405\" width=\"720\" style=\"border: 1px solid #464646;\" allowfullscreen allow=\"autoplay\"></iframe>"
            ],
            "text/plain": [
              "<IPython.core.display.HTML object>"
            ]
          },
          "metadata": {
            "tags": []
          },
          "execution_count": 6
        }
      ]
    },
    {
      "cell_type": "code",
      "metadata": {
        "id": "PUnilX1pN_n6"
      },
      "source": [
        "#Data load cell\n",
        "[axlist, aylist, omegazlist, counterlist,tlist] = loadtxt('https://raw.githubusercontent.com/CambridgeEngineering/PartIA-Mechanics-Labs/main/IA_vehicle_motion/datamotions.csv', delimiter=',').tolist()\n",
        "print('Basic motion data loaded')"
      ],
      "execution_count": null,
      "outputs": []
    },
    {
      "cell_type": "markdown",
      "metadata": {
        "id": "2xnFJWYJYgsX"
      },
      "source": [
        "### 1.9 Examine the data\n",
        "- The cell below plots the data from the four sensors. \n",
        "\n",
        "- The plot is not used in the report. \n",
        "\n",
        "- You can run this cell at any time to examine the currently loaded data. It is a good idea to do this each time you load new data, to check the data really has loaded and get a first look at what it contains.\n",
        "\n",
        "- Run the cell, and verify that you can identify each motion from the video in the plots. \n",
        "\n"
      ]
    },
    {
      "cell_type": "code",
      "metadata": {
        "id": "VSg9NV6wDqcq"
      },
      "source": [
        "# You can run this cell any time to plot the currently loaded raw data\n",
        "# It creates simple plots of the lateral accelearation, yaw velocity, wheel encoder count and longitudinal acceleation.\n",
        "\n",
        "t=np.array(tlist)   # convert lists to numpy arrays\n",
        "ax=np.array(axlist)  \n",
        "ay=np.array(aylist)\n",
        "omegaz=np.array(omegazlist) \n",
        "counter=np.array(counterlist)\n",
        "    \n",
        "t=t-t[0] # subtract first element of the array from the whole array so that the plot starts at 0 s.\n",
        "counter=counter-counter[0] # subtract first element of the array from the whole array so that the counter starts at 0.\n",
        "\n",
        "fig11=plt.figure(11,figsize=(19,12)) \n",
        "plt.subplot(221)\n",
        "plt.title('Lateral acceleration')\n",
        "plt.ylabel(r'$a_y\\ /\\ \\rm{m \\ s^{-2}}$')\n",
        "plt.plot(t,ay,marker='o', markersize=3, color=\"red\") # list of line objects\n",
        "plt.subplot(222)\n",
        "plt.title('Wheel encoder count')\n",
        "plt.ylabel(r'$n$')\n",
        "plt.plot(t,counter,marker='o', markersize=3, color=\"green\")\n",
        "plt.subplot(223)\n",
        "plt.title('Yaw velocity')\n",
        "plt.xlabel(r'time $t\\ /\\ \\rm{s}$')\n",
        "plt.ylabel(r'$\\omega_z\\ /\\ \\rm{rad \\ s^{-1}}$')\n",
        "plt.plot(t,omegaz, marker='o', markersize=3, color=\"blue\")\n",
        "plt.subplot(224)\n",
        "plt.title('Longitudinal acceleration')\n",
        "plt.xlabel(r'time $t\\ /\\ \\rm{s}$')\n",
        "plt.ylabel(r'$a_x\\ /\\ \\rm{m \\ s^{-2}}$')\n",
        "plt.plot(t,ax, marker='o', markersize=3, color=\"orange\")\n",
        "fig11.text(0.5,0.5,watermark,fontsize=140,color='gray',ha='center',va='center',rotation=45,alpha=0.15)\n",
        "plt.show()"
      ],
      "execution_count": null,
      "outputs": []
    },
    {
      "cell_type": "markdown",
      "metadata": {
        "id": "4ROL9DWFaCkE"
      },
      "source": [
        "Confirm that you can identify each motion from the video in the plots. \n",
        "\n",
        "It will help to consider the following points about the sensor data.\n",
        "\n",
        "- When the car is stationary but vertical, a non-zero acceleration is recorded. This is because the IMU does not measure acceleration directly; it measures the displacement of a mass at the end of an elastic cantilever. The force due to gravity as well as acceleration cause displacement of the mass.\n",
        "\n",
        "- The effect of gravity can also be seen on the recorded accelerations when the car is pointed downwards, and when the car is rolled sideways through ninety degrees.\n",
        "\n",
        "- Yaw velocity is only observed when the car is rotating around the z axis. (This isn't in the current data set, but a new better one will be made soon)\n",
        "\n",
        "- The wheel count only changes when the wheel turns - i.e. when the car is pushed along the bench.\n",
        "\n",
        "- The wheel encoder count is always an integer value, and an increasing count corresponds to forward motion."
      ]
    },
    {
      "cell_type": "markdown",
      "metadata": {
        "id": "iv6b_k23jdeX"
      },
      "source": [
        "## 2. Stationary car\n",
        "\n",
        "- In this section you will: examine in more detail the characteristics of the recorded signals; generate Figure 1; and answer Question 1.\n",
        "- Data was captured for about 5 seconds while the car was stationary on the desk. \n",
        "- Run the next three cells to watch the video of the experiment, load the data, and produce Figure 1 using the recorded data."
      ]
    },
    {
      "cell_type": "code",
      "metadata": {
        "id": "G-mAIlb5XVm_",
        "colab": {
          "base_uri": "https://localhost:8080/",
          "height": 428
        },
        "outputId": "2569bfa6-40be-42e2-dfe1-61ee2f27c906"
      },
      "source": [
        "#Video Cell. You may need to run this cell to load the video before you can play it\n",
        "HTML('<iframe src=\"https://cambridgelectures.cloud.panopto.eu/Panopto/Pages/Embed.aspx?id=3a620845-316e-4c78-bef3-acb10133b4ba&autoplay=false&offerviewer=true&showtitle=true&showbrand=false&start=0&interactivity=all\" height=\"405\" width=\"720\" style=\"border: 1px solid #464646;\" allowfullscreen allow=\"autoplay\"></iframe>')"
      ],
      "execution_count": 7,
      "outputs": [
        {
          "output_type": "execute_result",
          "data": {
            "text/html": [
              "<iframe src=\"https://cambridgelectures.cloud.panopto.eu/Panopto/Pages/Embed.aspx?id=3a620845-316e-4c78-bef3-acb10133b4ba&autoplay=false&offerviewer=true&showtitle=true&showbrand=false&start=0&interactivity=all\" height=\"405\" width=\"720\" style=\"border: 1px solid #464646;\" allowfullscreen allow=\"autoplay\"></iframe>"
            ],
            "text/plain": [
              "<IPython.core.display.HTML object>"
            ]
          },
          "metadata": {
            "tags": []
          },
          "execution_count": 7
        }
      ]
    },
    {
      "cell_type": "code",
      "metadata": {
        "id": "h5CUNttZjdeX"
      },
      "source": [
        "#Data load cell\n",
        "[axlist, aylist, omegazlist, counterlist,tlist] = loadtxt('https://raw.githubusercontent.com/CambridgeEngineering/PartIA-Mechanics-Labs/main/IA_vehicle_motion/datasta.csv', delimiter=',').tolist()\n",
        "print('Stationary data loaded')"
      ],
      "execution_count": null,
      "outputs": []
    },
    {
      "cell_type": "code",
      "metadata": {
        "id": "pnrKDaSljdeX"
      },
      "source": [
        "# Plot figure 1.\n",
        "\n",
        "t=np.array(tlist)   # convert lists to numpy arrays\n",
        "ax=np.array(axlist)  \n",
        "ay=np.array(aylist)\n",
        "omegaz=np.array(omegazlist) \n",
        "counter=np.array(counterlist)\n",
        "    \n",
        "t=t-t[0] # subtract first element of the array from the whole array so that the plot starts at 0 s.\n",
        "counter=counter-counter[0] # subtract first element of the array from the whole array so that the counter starts at 0.\n",
        "\n",
        "fig1=plt.figure(1,figsize=(19,12)) \n",
        "plt.subplot(221)\n",
        "plt.title('Lateral acceleration')\n",
        "plt.ylabel(r'$a_y\\ /\\ \\rm{m \\ s^{-2}}$')\n",
        "plt.plot(t,ay,marker='o', markersize=3, color=\"red\") # list of line objects\n",
        "plt.subplot(222)\n",
        "plt.title('Wheel encoder count')\n",
        "plt.ylabel(r'$n$')\n",
        "plt.plot(t,counter,marker='o', markersize=3, color=\"green\")\n",
        "plt.subplot(223)\n",
        "plt.title('Yaw velocity')\n",
        "plt.xlabel(r'time $t\\ /\\ \\rm{s}$')\n",
        "plt.ylabel(r'$\\omega_z\\ /\\ \\rm{rad \\ s^{-1}}$')\n",
        "plt.plot(t,omegaz, marker='o', markersize=3, color=\"blue\")\n",
        "plt.subplot(224)\n",
        "plt.title('Longitudinal acceleration')\n",
        "plt.xlabel(r'time $t\\ /\\ \\rm{s}$')\n",
        "plt.ylabel(r'$a_x\\ /\\ \\rm{m \\ s^{-2}}$')\n",
        "plt.plot(t,ax, marker='o', markersize=3, color=\"orange\")\n",
        "fig1.text(0.5,0.5,watermark,fontsize=140,color='gray',ha='center',va='center',rotation=45,alpha=0.15)\n",
        "plt.show()"
      ],
      "execution_count": null,
      "outputs": []
    },
    {
      "cell_type": "markdown",
      "metadata": {
        "id": "fM76vSO0ZZKH"
      },
      "source": [
        "- The data have been obtained by sampling and quantizing the real physical motion of the car.\n",
        "- Sampling is the process of measuring a continuous signal at an instant in time (in this case every 50 ms, or 20 Hz).\n",
        "- Quantization is the process of converting the value of the original continuous (analogue) signal at the sampling time into one of a finite set of discrete (digital) values.\n",
        "- The combined process of sampling and quantization is known as analogue to digital conversion (A to D).\n",
        "- The quantized values are initially generated as integers (not floating point numbers), then multiplied by a scaling or calibration factor to specify the signal in appropriate physical units.\n",
        "- The sampled and quantized data are plotted as small dots, and to aid visualisation lines are plotted between the dots.\n",
        "- Consider the following questions and write your answers in your lab notebook (each person in the lab group should record their own set of answers).\n",
        "\n",
        "#### Q1a. Can you confirm that the sampling rate is 20 Hz? How?\n",
        "\n",
        "#### Q1b. For each of the four signals:\n",
        "> - What is the quantization step size (smallest non-zero change in value)?\n",
        "> - What is the approximate mean value of the signal? Is the mean value what you expect? Why?\n",
        "> - What is the approximate peak-to-peak value of the signal? Is the peak-to-peak value what you expect? Why?\n",
        "\n",
        "\n",
        "- When you have answered the questions, save Figure 1 in pdf and png format by running the next cell.\n",
        "- If you are running on colabs, the files will only be saved on the remote google server, and will be deleted if the server disconects (for example, if the notebook is idle for too long). Therefore, you should then immediately run the next cell which will download the files to your local machine via the browser. \n",
        "- If you are running python locally, then the save comand will save the file somewhere on your local system - probably in the same directory as the python notebook. If you can't find it, try searching your disk for \"fig1pdf.pdf\". You cannot run the download comand, as it is specific to colabs.\n",
        " "
      ]
    },
    {
      "cell_type": "code",
      "metadata": {
        "id": "rG3iK9wraAOw"
      },
      "source": [
        "# Use this cell to save figure 1\n",
        "if 'fig1' in globals():\n",
        "  fig1.savefig(\"fig1pdf.pdf\")\n",
        "  fig1.savefig(\"fig1png.png\")\n",
        "  print('Figure 1 saved')\n",
        "else: print('Error: Figure not defined')"
      ],
      "execution_count": null,
      "outputs": []
    },
    {
      "cell_type": "code",
      "metadata": {
        "id": "8b9SIp58AWE3"
      },
      "source": [
        "# Google colabs only: then use this cell to download figure 1\n",
        "# You may get a browser pop up asking for permission to download (multiple) files - if so, you should grant permission.\n",
        "from google.colab import files\n",
        "files.download('fig1pdf.pdf')\n",
        "files.download('fig1png.png')"
      ],
      "execution_count": null,
      "outputs": []
    },
    {
      "cell_type": "markdown",
      "metadata": {
        "id": "op_pyfEEjdeY"
      },
      "source": [
        "## 3. Straight-line motion \n",
        "\n",
        "- In this section you will: use the wheel encoder count and the longitudinal acceleration measured by the IMU to determine the straight-line motion of the car; generate Figures 2 and 3; and answer Questions 2 and 3.\n",
        "\n",
        "### 3.1 Calibrate the optical rotary encoder\n",
        "- Before using the encoder to measure distance travelled, the encoder needs to be calibrated.\n",
        "- To do this, we move the car a known distance of about 1.2m.\n",
        "- Watch the video and load the data by running the next two cells.\n",
        "\n",
        "\n",
        "\n"
      ]
    },
    {
      "cell_type": "code",
      "metadata": {
        "id": "fxh-QtRYfZwH",
        "colab": {
          "base_uri": "https://localhost:8080/",
          "height": 428
        },
        "outputId": "80ed5270-5e0d-4318-f403-43a47f38c79d"
      },
      "source": [
        "#Video Cell. You may need to run this cell to load the video before you can play it\n",
        "HTML('<iframe src=\"https://cambridgelectures.cloud.panopto.eu/Panopto/Pages/Embed.aspx?id=34eee688-b4c5-4901-8b3e-acb101349b7a&autoplay=false&offerviewer=true&showtitle=true&showbrand=false&start=0&interactivity=all\" height=\"405\" width=\"720\" style=\"border: 1px solid #464646;\" allowfullscreen allow=\"autoplay\"></iframe>')"
      ],
      "execution_count": 8,
      "outputs": [
        {
          "output_type": "execute_result",
          "data": {
            "text/html": [
              "<iframe src=\"https://cambridgelectures.cloud.panopto.eu/Panopto/Pages/Embed.aspx?id=34eee688-b4c5-4901-8b3e-acb101349b7a&autoplay=false&offerviewer=true&showtitle=true&showbrand=false&start=0&interactivity=all\" height=\"405\" width=\"720\" style=\"border: 1px solid #464646;\" allowfullscreen allow=\"autoplay\"></iframe>"
            ],
            "text/plain": [
              "<IPython.core.display.HTML object>"
            ]
          },
          "metadata": {
            "tags": []
          },
          "execution_count": 8
        }
      ]
    },
    {
      "cell_type": "code",
      "metadata": {
        "id": "nSnLKvMifrnt"
      },
      "source": [
        "#Data load cell\n",
        "[axlist, aylist, omegazlist, counterlist,tlist] = loadtxt('https://raw.githubusercontent.com/CambridgeEngineering/PartIA-Mechanics-Labs/main/IA_vehicle_motion/datastraight.csv', delimiter=',').tolist()\n",
        "print('Straight slow data loaded')"
      ],
      "execution_count": null,
      "outputs": []
    },
    {
      "cell_type": "markdown",
      "metadata": {
        "id": "1SHzS1mCg030"
      },
      "source": [
        "- The cell below contains code to generate Figure 2.\n",
        "- Edit the first line of code to specify the distance 'tapedistance' in metres that the car moved in the video. (Do not edit the value of 'wheeldia' at this stage.)\n",
        "- The rest of the code copies the loaded data to numpy arrays, then the wheel encoder data is converted to distance and plotted against time.\n",
        "- The conversion from count to distance involves dividing by the pulses per revolution of the encoder ('ppr' in the code = 128), multiplying by pi and multiplying by the diameter of the wheel ('wheeldia' in the code).\n",
        "- Run the cell and compare the tape measure distance (orange dashed line) to the distance determined from the wheel encoder count (blue solid line)."
      ]
    },
    {
      "cell_type": "code",
      "metadata": {
        "id": "oi0pwgN1jdeZ"
      },
      "source": [
        "#CODE TO MAKE FIGURE 2  \n",
        "\n",
        "# EDIT THE NEXT LINE TO SPECIFY THE DISTANCE IN m MEASURED USING THE TAPE MEASURE (default is 1.000)\n",
        "\n",
        "tapedistance=1.000\n",
        "\n",
        "# EDIT THE NEXT LINE TO SPECIFY THE DIAMETER OF THE REAR WHEEL IN m (default is 0.0400)\n",
        "\n",
        "wheeldia=0.04\n",
        "\n",
        "\n",
        "# DO NOT CHANGE ANYTHING BELOW THIS LINE\n",
        "\n",
        "plt.close(0) # close figure 0 if current\n",
        "\n",
        "\n",
        "t=np.array(tlist)   # convert lists to numpy arrays\n",
        "ax=np.array(axlist)  \n",
        "ay=np.array(aylist)\n",
        "omegaz=np.array(omegazlist) \n",
        "counter=np.array(counterlist)\n",
        "\n",
        "    \n",
        "t=t-t[0] # subtract first element of the array from the whole array so that the plot starts at 0 s.\n",
        "counter=counter-counter[0] # subtract first element of the array from the whole array so that the counter starts at 0.\n",
        "\n",
        "ppr=128 # pulses per revolution of the encoder\n",
        "scount=(counter/ppr)*(wheeldia*np.pi) # convert the count to distance in metres\n",
        "\n",
        "fig2=plt.figure(2,figsize=(9.5,6)) \n",
        "plt.title('Wheel encoder distance (wheeldia=%.4f m)' %wheeldia)\n",
        "plt.xlabel(r'time $t\\ /\\ \\rm{s}$')\n",
        "plt.ylabel(r'distance $s\\ /\\ \\rm{m}$')\n",
        "plt.plot(t,scount)\n",
        "plt.plot(t,tapedistance*np.ones_like(t),linestyle='--')\n",
        "fig2.text(0.5,0.5,watermark,fontsize=70,color='gray',ha='center',va='center',rotation=45,alpha=0.15)\n",
        "plt.show()"
      ],
      "execution_count": null,
      "outputs": []
    },
    {
      "cell_type": "markdown",
      "metadata": {
        "id": "w4bVCIADjdeZ"
      },
      "source": [
        "- Are the tape measure distance (orange dashed line) and the final distance determined from the wheel encoder count (blue solid line) sufficiently close? The lines should be on top of each other.\n",
        "- If not, edit the value of 'wheeldia' in the second line of code to get agreement and thus to calibrate the wheel encoder count. Then answer Question 2.\n",
        "\n",
        "#### Q2. What value of 'wheeldia' did you use? Is this consistent with the diameter seen in the image below?\n",
        "\n",
        "![diameter.jpg](https://github.com/CambridgeEngineering/PartIA-Mechanics-Labs/blob/main/IA_vehicle_motion/diameter.jpg?raw=true)\n",
        "\n",
        "- When you have done this, save Figure 2 to your filespace by running the cell below (existing files with the same name will be overwritten without warning)."
      ]
    },
    {
      "cell_type": "code",
      "metadata": {
        "id": "FwxybfJMjdeZ"
      },
      "source": [
        "# Use this cell to save figure 2\n",
        "if 'fig2' in globals():\n",
        "  fig2.savefig(\"fig2pdf.pdf\")\n",
        "  fig2.savefig(\"fig2png.png\")\n",
        "  print('Figure 2 saved')\n",
        "else: print('Error: Figure not defined')"
      ],
      "execution_count": null,
      "outputs": []
    },
    {
      "cell_type": "code",
      "metadata": {
        "id": "sbiFY6cBE7zb"
      },
      "source": [
        "# Google colabs only: then use this cell to download figure 2\n",
        "# You may get a browser pop up asking for permission to download (multiple) files - if so, you should grant permission.\n",
        "from google.colab import files\n",
        "files.download('fig2pdf.pdf')\n",
        "files.download('fig2png.png')"
      ],
      "execution_count": null,
      "outputs": []
    },
    {
      "cell_type": "markdown",
      "metadata": {
        "id": "HlkO0dSajdea"
      },
      "source": [
        "### 3.2 Compare the measurements of the IMU and the wheel encoder\n",
        "\n",
        "- A practical difficulty with using wheel rotation to measure distance travelled is that the method relies on the wheel not slipping on the road surface.\n",
        "- Whenever a wheel is driven or braked, slipping will occur.\n",
        "- It's not a significant problem in this experiment because the wheel is free to roll, not driven or braked, but on real vehicles the slippping can be significant. \n",
        "\n",
        "\n",
        "- An alternative way to measure distance travelled is to measure the longitudinal acceleration using the IMU (x direction) and then integrate twice to estimate distance.\n",
        "- This works better if the acceleration/deceleration is large, so we now repeat the straight line experiment, but moving the car faster (aiming to achieve a maximum acceleration of about 5 m/s^)- During this experiment, it is vital that the car starts and finishes at rest.\n",
        "- Watch the video and load the data by running the next two cells.\n",
        "\n"
      ]
    },
    {
      "cell_type": "code",
      "metadata": {
        "id": "cWDd5aI_ipb2",
        "colab": {
          "base_uri": "https://localhost:8080/",
          "height": 428
        },
        "outputId": "db5dbe2a-d966-4ecb-fec6-e363954fda6b"
      },
      "source": [
        "#Video Cell. You may need to run this cell to load the video before you can play it\n",
        "HTML('<iframe src=\"https://cambridgelectures.cloud.panopto.eu/Panopto/Pages/Embed.aspx?id=ceb5b3eb-a0b0-4b29-9a10-acb10134badb&autoplay=false&offerviewer=true&showtitle=true&showbrand=false&start=0&interactivity=all\" height=\"405\" width=\"720\" style=\"border: 1px solid #464646;\" allowfullscreen allow=\"autoplay\"></iframe>')"
      ],
      "execution_count": 9,
      "outputs": [
        {
          "output_type": "execute_result",
          "data": {
            "text/html": [
              "<iframe src=\"https://cambridgelectures.cloud.panopto.eu/Panopto/Pages/Embed.aspx?id=ceb5b3eb-a0b0-4b29-9a10-acb10134badb&autoplay=false&offerviewer=true&showtitle=true&showbrand=false&start=0&interactivity=all\" height=\"405\" width=\"720\" style=\"border: 1px solid #464646;\" allowfullscreen allow=\"autoplay\"></iframe>"
            ],
            "text/plain": [
              "<IPython.core.display.HTML object>"
            ]
          },
          "metadata": {
            "tags": []
          },
          "execution_count": 9
        }
      ]
    },
    {
      "cell_type": "code",
      "metadata": {
        "id": "GdfKS-iIjdea"
      },
      "source": [
        "#Data load cell\n",
        "[axlist, aylist, omegazlist, counterlist,tlist] = loadtxt('https://raw.githubusercontent.com/CambridgeEngineering/PartIA-Mechanics-Labs/main/IA_vehicle_motion/datastraightfast.csv', delimiter=',').tolist()\n",
        "print('Straight fast data loaded')"
      ],
      "execution_count": null,
      "outputs": []
    },
    {
      "cell_type": "markdown",
      "metadata": {
        "id": "KUw3CENQj9eQ"
      },
      "source": [
        "\n",
        "- The code in the next cell numerically integrates the measured longitudinal acceleration data using the trapezium rule to estimate longitudinal velocity. The initial velocity is set to zero.\n",
        "- The longitudinal velocity is then integrated to distance. The initial distance is set to zero.\n",
        "- A constant 'axoffset' can be added to the acceleration before it is integrated. The constant is intially set to zero in the code.\n",
        "\n",
        "\n",
        "- The code also numerically differentiates the measured encoder data, using numpy's 'gradient' function.\n",
        "- Differentiating once gives longitudinal velocity, differentiating again gives longitudinal acceleration (at the left-hand wheel)\n",
        "- The wheel encoder data is calibrated using the value of wheeldia determined in Section 3.1.\n",
        "\n",
        "\n",
        "- The longitudinal acceleration, velocity and distance determined from the IMU and from the encoder are then plotted in separate graphs but with a common time axis.\n",
        "- Run the cell initially with axoffset=0 (the default value)."
      ]
    },
    {
      "cell_type": "code",
      "metadata": {
        "id": "-yKk5Kccjdeb"
      },
      "source": [
        "# EDIT THE VALUE OF axoffset TO COMPENSATE OFFSET IN THE ACCELERATION SIGNAL\n",
        "\n",
        "axoffset = 0.0\n",
        "\n",
        "\n",
        "\n",
        "plt.close(0) # close figure 0 if current\n",
        "\n",
        "\n",
        "t=np.array(tlist)   # convert lists to numpy arrays\n",
        "ax=np.array(axlist)  \n",
        "ay=np.array(aylist)\n",
        "omegaz=np.array(omegazlist) \n",
        "counter=np.array(counterlist)\n",
        "\n",
        "    \n",
        "t=t-t[0] # subtract first element of the array from the whole array so that the plot starts at 0 s.\n",
        "counter=counter-counter[0] # subtract first element of the array from the whole array so that the counter starts at 0.\n",
        "\n",
        "axo = ax+axoffset\n",
        "vx = integrate.cumtrapz(axo, t, initial=0)\n",
        "sx = integrate.cumtrapz(vx, t, initial=0)\n",
        "\n",
        "ppr=128 # pulses per revolution of the encoder\n",
        "sxcount=(counter/ppr)*(wheeldia*np.pi) # convert the count to distance in metres\n",
        "vxcount=np.gradient(sxcount,t) # differentiate to find velocity\n",
        "axcount=np.gradient(vxcount,t) # differentiate again to find acceleration\n",
        "\n",
        "fig3=plt.figure(3,figsize=(19,12)) \n",
        "plt.subplot(311)\n",
        "plt.title('IMU (solid) and encoder (dash). axoffset=%.2f m/s^2' %axoffset)\n",
        "plt.ylabel(r'long. accn. $/\\ \\rm{m \\ s^{-2}}$')\n",
        "plt.plot(t,axo) \n",
        "plt.plot(t,axcount,linestyle='--') \n",
        "plt.subplot(312)\n",
        "plt.ylabel(r'long. vel. $/\\ \\rm{m \\ s^{-1}}$')\n",
        "plt.plot(t,vx)\n",
        "plt.plot(t,vxcount,linestyle='--')\n",
        "plt.subplot(313)\n",
        "plt.xlabel(r'time $t\\ /\\ \\rm{s}$')\n",
        "plt.ylabel(r'distance $/\\ \\rm{m}$')\n",
        "plt.plot(t,sx)\n",
        "plt.plot(t,sxcount,linestyle='--')\n",
        "fig3.text(0.5,0.5,watermark,fontsize=70,color='gray',ha='center',va='center',rotation=45,alpha=0.15)\n",
        "plt.show()"
      ],
      "execution_count": null,
      "outputs": []
    },
    {
      "cell_type": "markdown",
      "metadata": {
        "id": "1xZ8qxGyj8OH"
      },
      "source": [
        ""
      ]
    },
    {
      "cell_type": "markdown",
      "metadata": {
        "id": "NvcqoJ1Wjdeb"
      },
      "source": [
        "#### Q3a. Is the data as you expect? Are there any discrepancies between the two sets of data, and what might be the causes?\n",
        "\n",
        "- The longitudinal velocity at the end of the run should be zero (assuming you stopped recording after the vehicle stopped moving).\n",
        "- It is likely that this is not the case for the velocity signal determined from the IMU (solid line).\n",
        "- The reason is due mainly to the small non-zero acceleration measured when the car is stationary (see your findings in Section 2, Figure 1 and Question 1b).\n",
        "- This constant offset results in drift of the calculated velocity and distance away from the true values.\n",
        "- If it is assumed that the offset is constant, then it can be compensated by adding a constant to the measured acceleration before integrating to velocity and displacement.\n",
        "- Re-run the cell with a non-zero value of 'axoffset' (edit the first line in the cell), to bring the final velocity determined from the IMU (solid line) close to zero.\n",
        "\n",
        "#### Q3b. What value of offset did you use? Was it effective in eliminating the drift of the velocity and displacement signals determined from the IMU's acceleration signal? Are there any remaining discrepancies between the two sets of data?\n",
        "\n",
        "- Offsets in the outputs of sensors are very common (and not just inertial sensors).\n",
        "- The offset can vary with time, temperature and other factors.\n",
        "- The processing of measured data must often account for the presence of offsets.\n",
        "- In the case of accelerometers, unwanted offsets can also arise due to the gravitational field.\n",
        "- In vehicles this occurs when operating on a non-horizontal road surface.\n",
        "- The IMU's microcontroller can compensate for sensor offsets and gravitational field, and can also calibrate the acceleration and angular velocity sensors, but this facility is not used in the present experiment.\n",
        "\n",
        "\n",
        "- When you have answered Question 3, save Figure 3 to your filespace by running the cell below (existing files with the same name will be overwritten without warning)."
      ]
    },
    {
      "cell_type": "code",
      "metadata": {
        "id": "uMFJn1dSjdeb"
      },
      "source": [
        "# Use this cell to save figure 3\n",
        "if 'fig1' in globals():\n",
        "  fig3.savefig(\"fig3pdf.pdf\")\n",
        "  fig3.savefig(\"fig3png.png\")\n",
        "  print('Figure 3 saved')\n",
        "else: print('Error: Figure not defined')"
      ],
      "execution_count": null,
      "outputs": []
    },
    {
      "cell_type": "code",
      "metadata": {
        "id": "p_EtNMybE_uj"
      },
      "source": [
        "# Google colabs only: then use this cell to download figure 3\n",
        "# You may get a browser pop up asking for permission to download (multiple) files - if so, you should grant permission.\n",
        "from google.colab import files\n",
        "files.download('fig3pdf.pdf')\n",
        "files.download('fig3png.png')"
      ],
      "execution_count": null,
      "outputs": []
    },
    {
      "cell_type": "markdown",
      "metadata": {
        "id": "iJwxNofFjdeb"
      },
      "source": [
        "## 4. Circular motion\n",
        "- In this section you will: use three different combinations of the signals to measure the instantaneous path radius of the car; generate Figures 4 to 8; answer Questions 4 to 8.\n",
        "\n",
        "### 4.1 Calibration of yaw velocity measured by IMU\n",
        "\n",
        "- Before proceeding further, the yaw velocity output of the IMU will be calibrated.\n",
        "- To do this, we gather data while pushing the car in a complete circle, so we know it has turned 360 degrees. \n",
        "- During the motion, we try to keep the wheels steered as far as they will go to the left or the right, to achieve a constant radius.\n",
        "- We also try to ensure that the car is pointing in exactly the same direction at the beginning and the end, and aim for a lateral acceleration of about 3m/s^2 without any sideways sliding. \n",
        "- We also include a coupole of seconds of stationary data at the start and end of the run.\n",
        "- Watch the video and load the data by running the next two cells.\n"
      ]
    },
    {
      "cell_type": "code",
      "metadata": {
        "id": "kYc-FGYNvhY8",
        "colab": {
          "base_uri": "https://localhost:8080/",
          "height": 428
        },
        "outputId": "54973f0a-40fc-4f1b-df61-4eed94bf1325"
      },
      "source": [
        "#Video Cell. You may need to run this cell to load the video before you can play it\n",
        "HTML('<iframe src=\"https://cambridgelectures.cloud.panopto.eu/Panopto/Pages/Embed.aspx?id=1c99011b-5631-497a-a502-acb200ac7f65&autoplay=false&offerviewer=true&showtitle=true&showbrand=false&start=0&interactivity=all\" height=\"405\" width=\"720\" style=\"border: 1px solid #464646;\" allowfullscreen allow=\"autoplay\"></iframe>')"
      ],
      "execution_count": 10,
      "outputs": [
        {
          "output_type": "execute_result",
          "data": {
            "text/html": [
              "<iframe src=\"https://cambridgelectures.cloud.panopto.eu/Panopto/Pages/Embed.aspx?id=1c99011b-5631-497a-a502-acb200ac7f65&autoplay=false&offerviewer=true&showtitle=true&showbrand=false&start=0&interactivity=all\" height=\"405\" width=\"720\" style=\"border: 1px solid #464646;\" allowfullscreen allow=\"autoplay\"></iframe>"
            ],
            "text/plain": [
              "<IPython.core.display.HTML object>"
            ]
          },
          "metadata": {
            "tags": []
          },
          "execution_count": 10
        }
      ]
    },
    {
      "cell_type": "code",
      "metadata": {
        "id": "5UwwQ4KQjdeb"
      },
      "source": [
        "#Data load cell\n",
        "[axlist, aylist, omegazlist, counterlist,tlist] = loadtxt('https://raw.githubusercontent.com/CambridgeEngineering/PartIA-Mechanics-Labs/main/IA_vehicle_motion/datacircle1.csv', delimiter=',').tolist()\n",
        "print('Circle motion data loaded')"
      ],
      "execution_count": null,
      "outputs": []
    },
    {
      "cell_type": "markdown",
      "metadata": {
        "id": "VGdz0bsjv-Ye"
      },
      "source": [
        "- The next cell numerically integrates the measured yaw velocity (plotted in the top graph) to calculate yaw angle (plotted in the middle graph). The initial value is set to zero.\n",
        "- The calculated angle at the end of the run is compared with the known angle ($2\\pi n_{circles}$ where $n_{circles}$ is the number of complete circles.\n",
        "- Edit the first line of the cell if the car completed two or more complete circles. (Do not change the value of 'omegazscaling' at this stage.)\n",
        "\n",
        "\n",
        "- Run the cell "
      ]
    },
    {
      "cell_type": "code",
      "metadata": {
        "id": "3krrGWAhjdec"
      },
      "source": [
        "ncircles=1           # EDIT THIS TO SPECIFY THE NUMBER OF COMPLETE CIRCLES (default is 1)\n",
        "omegazscaling=1.000   # EDIT THIS TO SCALE THE YAW VELOCITY OUTPUT OF THE IMU (default is 1.00)\n",
        "\n",
        "\n",
        "\n",
        "# DO NOT CHANGE ANYTHING BELOW THIS LINE\n",
        "\n",
        "plt.close(0) # close figure 0 if current\n",
        "\n",
        "t=np.array(tlist)   # convert lists to numpy arrays\n",
        "ax=np.array(axlist)  \n",
        "ay=np.array(aylist)\n",
        "omegaz=np.array(omegazlist) \n",
        "counter=np.array(counterlist)\n",
        "\n",
        "\n",
        "t=t-t[0] # subtract first element of the array from the whole array so that the plot starts at 0 s.\n",
        "counter=counter-counter[0] # subtract first element of the array from the whole array so that the counter starts at 0.\n",
        "\n",
        "ppr=128 # pulses per revolution of the encoder\n",
        "sxcount=(counter/ppr)*(wheeldia*np.pi) # convert the count to distance in metres\n",
        "omegazscaled=omegaz*omegazscaling\n",
        "thetaz = integrate.cumtrapz(omegazscaled, t, initial=0) # integrate omegaz to find angular displacement thetaz\n",
        "averagerad=sxcount[-1]/thetaz[-1] # use the final values of distance and angle for an average path radius\n",
        "\n",
        "fig4=plt.figure(4,figsize=(19,12)) \n",
        "plt.subplot(311)\n",
        "plt.title('omegazscaling=%.2f, average path radius (dashed)=%.4f m,' %(omegazscaling, averagerad))\n",
        "plt.ylabel(r'yaw vel. $/\\ \\rm{rad \\ s^{-1}}$')\n",
        "plt.plot(t,omegazscaled)\n",
        "plt.subplot(312)\n",
        "plt.ylabel(r'yaw angle $/\\ \\rm{rad}$')\n",
        "plt.plot(t,thetaz)\n",
        "plt.plot(t,np.sign(averagerad)*ncircles*2*np.pi*np.ones_like(t),linestyle='--')\n",
        "plt.subplot(313)\n",
        "plt.xlabel(r'time $t\\ /\\ \\rm{s}$')\n",
        "plt.ylabel(r'distance $/\\ \\rm{m}$')\n",
        "plt.plot(t,sxcount)\n",
        "fig4.text(0.5,0.5,watermark,fontsize=140,color='gray',ha='center',va='center',rotation=45,alpha=0.15)\n",
        "plt.show()"
      ],
      "execution_count": null,
      "outputs": []
    },
    {
      "cell_type": "markdown",
      "metadata": {
        "id": "ehWJDD8jjdec"
      },
      "source": [
        "- Inspect the top graph and confirm that the yaw velocity at the beginning and end of the run is zero. (The yaw velocity sensor is less susceptible to offsets than the acceleration sensors therefore it is not necessary to apply a compensating offset before integrating the yaw velocity to yaw angle.)\n",
        "\n",
        "\n",
        "- Inspect the middle graph. The solid line is the yaw angle calculated by integrating the measured yaw velocity.\n",
        "- The dashed horizontal line is $2\\pi n_{circles}$ radians, the actual yaw angle at the end of the path (assuming that the car completed exactly a whole number of circles)\n",
        "- If the final values of the solid and dashed lines are different then a scaling (multiplying) factor must be applied to the measured yaw velocity to correct the calibration of the IMU.\n",
        "- If necessary, adjust the value of 'omegazscaling' in the second line of the cell and re-run the cell.\n",
        "- Repeat until the difference is negligible.\n",
        "- The value of omegazscaling used is printed in the title of the figure.\n",
        "\n",
        "\n",
        "- The bottom graph shows the distance travelled, determined from the calibrated encoder signal (using the value of wheeldia found in Section 3.1).\n",
        "- If it is assumed that the path of the car was circular, an average value of path radius can be calculated by dividing the final yaw angle travelled by the final distance travelled.\n",
        "- This radius is printed in the title of the figure.\n",
        "\n",
        "#### Q4. Watch the video in the cell below, where we use a tape measure to estimate the radius of the path. Is this estimate consistent with the calculated average value? Why? (Remember that the encoder measures the distance travelled by the left hand rear wheel.)\n",
        "\n"
      ]
    },
    {
      "cell_type": "code",
      "metadata": {
        "id": "y5MMPr03ub-C",
        "colab": {
          "base_uri": "https://localhost:8080/",
          "height": 428
        },
        "outputId": "6975ec18-6bd9-4852-c640-56715a7e66aa"
      },
      "source": [
        "#Video Cell. You may need to run this cell to load the video before you can play it\n",
        "HTML('<iframe src=\"https://cambridgelectures.cloud.panopto.eu/Panopto/Pages/Embed.aspx?id=8802a992-dc44-44ab-8777-acb200ab50ad&autoplay=false&offerviewer=true&showtitle=true&showbrand=false&start=0&interactivity=all\" height=\"405\" width=\"720\" style=\"border: 1px solid #464646;\" allowfullscreen allow=\"autoplay\"></iframe>')"
      ],
      "execution_count": 11,
      "outputs": [
        {
          "output_type": "execute_result",
          "data": {
            "text/html": [
              "<iframe src=\"https://cambridgelectures.cloud.panopto.eu/Panopto/Pages/Embed.aspx?id=8802a992-dc44-44ab-8777-acb200ab50ad&autoplay=false&offerviewer=true&showtitle=true&showbrand=false&start=0&interactivity=all\" height=\"405\" width=\"720\" style=\"border: 1px solid #464646;\" allowfullscreen allow=\"autoplay\"></iframe>"
            ],
            "text/plain": [
              "<IPython.core.display.HTML object>"
            ]
          },
          "metadata": {
            "tags": []
          },
          "execution_count": 11
        }
      ]
    },
    {
      "cell_type": "markdown",
      "metadata": {
        "id": "4SshittYx88O"
      },
      "source": [
        "- When you have answered Question 4 run the cell below to save Figure 4 (existing files with the same name will be overwritten without warning)."
      ]
    },
    {
      "cell_type": "code",
      "metadata": {
        "id": "DIAwUs8Djdec"
      },
      "source": [
        "# Use this cell to save figure 4\n",
        "if 'fig1' in globals():\n",
        "  fig4.savefig(\"fig4pdf.pdf\")\n",
        "  fig4.savefig(\"fig4png.png\")\n",
        "  print('Figure 4 saved')\n",
        "else: print('Error: Figure not defined')"
      ],
      "execution_count": null,
      "outputs": []
    },
    {
      "cell_type": "code",
      "metadata": {
        "id": "OpE5oVsdFHvg"
      },
      "source": [
        "# Google colabs only: then use this cell to download figure 4\n",
        "# You may get a browser pop up asking for permission to download (multiple) files - if so, you should grant permission.\n",
        "from google.colab import files\n",
        "files.download('fig4pdf.pdf')\n",
        "files.download('fig4png.png')"
      ],
      "execution_count": null,
      "outputs": []
    },
    {
      "cell_type": "markdown",
      "metadata": {
        "id": "_0cgNHVqjdec"
      },
      "source": [
        "### 4.2 Estimate radius of path using encoder and yaw velocity\n",
        "\n",
        "- Now that the yaw velocity is calibrated, a time history of the instantaneous radius $r$ of the vehicle's path can be obtained from the longitudinal velocity $v_x$ and yaw velocity $\\omega_z$:\n",
        "\n",
        "$$ r=\\frac{v_x}{\\omega_z}$$\n",
        "\n",
        "- As you saw in Section 3.2, the longitudinal velocity $v_x$ can be obtained by differentiating the displacement signal from the wheel encoder.\n",
        "- The next cell plots three graphs: the longitudinal velocity $v_x$ determined from the encoder; the yaw velocity $\\omega_z$ measured by the IMU; and the radius $ r=\\frac{v_x}{\\omega_z}$.\n",
        "- The bottom graph also shows the average path radius calculated previously from the final values of yaw angle and distance. \n",
        "- Note that some values of $r$ might not be plotted if there is a divide by zero condition.\n",
        "- Run the cell."
      ]
    },
    {
      "cell_type": "code",
      "metadata": {
        "id": "9c6YB6xxjdec"
      },
      "source": [
        "ymax=0.5    # EDIT THIS TO SPECIFY THE MAXIMUM RADIUS IN m ON THE VERTICAL AXIS (default is 0.5)\n",
        "ymin=-0.5   # EDIT THIS TO SPECIFY THE MINIMUM RADIUS IN m ON THE VERTICAL AXIS (default is -0.5)\n",
        "\n",
        "# DO NOT CHANGE ANYTHING BELOW THIS LINE\n",
        "\n",
        "plt.close(0) # close figure 0 if current\n",
        "np.warnings.filterwarnings('ignore') # suppresses divide by zero warnings from np.divide\n",
        "vxcount=np.gradient(sxcount,t) # differentiate distance to velocity\n",
        "r=np.divide(vxcount,omegazscaled) # calculate path radius\n",
        "\n",
        "fig5=plt.figure(5,figsize=(9.5,6)) \n",
        "plt.subplot(311)\n",
        "plt.title('omegazscaling=%.2f, average path radius (dashed)=%.4f m,' %(omegazscaling, averagerad))\n",
        "plt.ylabel(r'long. vel. $/\\ \\rm{m \\ s^{-1}}$')\n",
        "plt.plot(t,vxcount)\n",
        "plt.subplot(312)\n",
        "plt.ylabel(r'yaw vel. $/\\ \\rm{rad \\ s^{-1}}$')\n",
        "plt.plot(t,omegazscaled)\n",
        "plt.subplot(313)\n",
        "plt.ylim(ymin,ymax)\n",
        "plt.ylabel(r'radius $/\\ \\rm{m}$')\n",
        "plt.xlabel(r'time $t\\ /\\ \\rm{s}$')          \n",
        "plt.plot(t,r)\n",
        "plt.plot(t,averagerad*np.ones_like(t),linestyle='--')\n",
        "fig5.text(0.5,0.5,watermark,fontsize=70,color='gray',ha='center',va='center',rotation=45,alpha=0.15)\n",
        "plt.show()"
      ],
      "execution_count": null,
      "outputs": []
    },
    {
      "cell_type": "markdown",
      "metadata": {
        "id": "RfXhWLogjded"
      },
      "source": [
        "#### Q5. Comment on the whole time history of radius (solid line) in the bottom graph, and compare it to the average path radius calculated in Section 4.1 (dashed line).\n",
        "> #### In particular, comment on regions where there is agreement and where there is discrepancy.\n",
        "> #### You may need to adjust the range of the vertical axis in the last graph; edit the ymax and ymin values in the cell.\n",
        "\n",
        "- When you have answered Question 5 run the cell below to save Figure 5 (existing files with the same name will be overwritten without warning)."
      ]
    },
    {
      "cell_type": "code",
      "metadata": {
        "id": "-FXpntf0jded"
      },
      "source": [
        "# Use this cell to save figure 5\n",
        "if 'fig1' in globals():\n",
        "  fig5.savefig(\"fig5pdf.pdf\")\n",
        "  fig5.savefig(\"fig5png.png\")\n",
        "  print('Figure 5 saved')\n",
        "else: print('Error: Figure not defined')"
      ],
      "execution_count": null,
      "outputs": []
    },
    {
      "cell_type": "code",
      "metadata": {
        "id": "Agr8GZ1zFK78"
      },
      "source": [
        "# Google colabs only: then use this cell to download figure 5\n",
        "# You may get a browser pop up asking for permission to download (multiple) files - if so, you should grant permission.\n",
        "from google.colab import files\n",
        "files.download('fig5pdf.pdf')\n",
        "files.download('fig5png.png')"
      ],
      "execution_count": null,
      "outputs": []
    },
    {
      "cell_type": "markdown",
      "metadata": {
        "id": "nSw2dbD6jded"
      },
      "source": [
        "### 4.3 Estimate radius of path using encoder and lateral acceleration\n",
        "\n",
        "- The data book diagram of intrinsic coordinates reveals that path radius can also be calculated using longitudinal velocity $v_x$ and lateral acceleration $a_y$:\n",
        "\n",
        "$$ r=\\frac{v_x^2}{a_y}$$\n",
        "\n",
        "\n",
        "- The next cell plots three graphs: the longitudinal velocity $v_x$ (determined from the encoder); the lateral acceleration $a_y$ (from the IMU); and the radius $ r=\\frac{v_x^2}{a_y}$.\n",
        "- The dashed line in the bottom graph is the average radius calculated previously in Section 4.1.\n",
        "- Note that some values of $r$ might not be plotted if there is a divide by zero condition. \n",
        "- Run the cell. (Do not change the values of 'ymax', 'ymin' or 'ayoffset' at this stage.)"
      ]
    },
    {
      "cell_type": "code",
      "metadata": {
        "scrolled": true,
        "id": "e6OLu52xjded"
      },
      "source": [
        "ymax=0.5    # EDIT THIS TO SPECIFY THE MAXIMUM RADIUS ON THE VERTICAL AXIS (default is 0.5 m)\n",
        "ymin=-0.5   # EDIT THIS TO SPECIFY THE MINIMUM RADIUS ON THE VERTICAL AXIS (default is -0.5 m)\n",
        "ayoffset=0.00  # EDIT THIS VALUE TO COMPENSATE OFFSET IN THE LATERAL ACCELERATION SIGNAL (default is 0.00 m/s/s)\n",
        "\n",
        "# DO NOT CHANGE ANYTHING BELOW THIS LINE\n",
        "\n",
        "plt.close(0) # close figure 0 if current\n",
        "np.warnings.filterwarnings('ignore') # suppresses divide by zero warnings from np.divide\n",
        "ayo = ay+ayoffset\n",
        "r=np.divide(np.square(vxcount),ayo) # calculate path radius\n",
        "\n",
        "fig6=plt.figure(6,figsize=(9.5,6)) \n",
        "plt.subplot(311)\n",
        "plt.title('omegazscaling=%.2f, ayoffset=%.2f m/s/s, average path radius (dashed)=%.4f m,' %(omegazscaling, ayoffset, averagerad))\n",
        "plt.ylabel(r'long. vel. $/\\ \\rm{m \\ s^{-1}}$')\n",
        "plt.plot(t,vxcount)\n",
        "plt.subplot(312)\n",
        "plt.ylabel(r'lat. accn. $a_y\\ /\\ \\rm{m \\ s^{-2}}$')\n",
        "plt.plot(t,ayo)\n",
        "plt.subplot(313)\n",
        "plt.ylim(ymin,ymax)\n",
        "plt.ylabel(r'radius $/\\ \\rm{m}$')\n",
        "plt.xlabel(r'time $t\\ /\\ \\rm{s}$')           \n",
        "plt.plot(t,r)\n",
        "plt.plot(t,averagerad*np.ones_like(t),linestyle='--')\n",
        "fig6.text(0.5,0.5,watermark,fontsize=70,color='gray',ha='center',va='center',rotation=45,alpha=0.15)\n",
        "plt.show()"
      ],
      "execution_count": null,
      "outputs": []
    },
    {
      "cell_type": "markdown",
      "metadata": {
        "id": "0sNdb-96jdee"
      },
      "source": [
        "- A difficulty with using lateral acceleration measured by the IMU is the possible presence of an offset.\n",
        "- Inspect the middle graph and check that lateral acceleration is zero at the start and end, when the car is stationary.\n",
        "- If it is not zero, edit the value of 'ayoffset' in the third line of the cell above and re-run the cell.\n",
        "- When you are happy that the offset of the lateral acceleration has been compensated answer Question 6.\n",
        "\n",
        "#### Q6. Comment on the whole time history of radius (solid line) in the bottom graph, and compare it to the average path radius (dashed line) calculated in Section 4.1.\n",
        "> #### In particular, comment on regions where there is agreement and where there is discrepancy, and compare to the bottom graph of Figure 5.\n",
        "> #### You may need to adjust the range of the vertical axis in the last graph; edit the ymax and ymin values in the cell.\n",
        "> #### Remember that the encoder measures the distance travelled by the left hand rear wheel, and that the IMU is located on the longitudinal centreline of the car; what effect does this have on the calculated path radius? \n",
        "\n",
        "- When you have answered Question 6 run the cell below to save Figure 6 (existing files with the same name will be overwritten without warning)."
      ]
    },
    {
      "cell_type": "code",
      "metadata": {
        "id": "S3HMm9pjjdee"
      },
      "source": [
        "# Use this cell to save figure 6\n",
        "if 'fig6' in globals():\n",
        "  fig6.savefig(\"fig6pdf.pdf\")\n",
        "  fig6.savefig(\"fig6png.png\")\n",
        "  print('Figure 6 saved')\n",
        "else: print('Error: Figure not defined')"
      ],
      "execution_count": null,
      "outputs": []
    },
    {
      "cell_type": "code",
      "metadata": {
        "id": "HIeVx5ubFOBW"
      },
      "source": [
        "# Google colabs only: then use this cell to download figure 6\n",
        "# You may get a browser pop up asking for permission to download (multiple) files - if so, you should grant permission.\n",
        "from google.colab import files\n",
        "files.download('fig6pdf.pdf')\n",
        "files.download('fig6png.png')"
      ],
      "execution_count": null,
      "outputs": []
    },
    {
      "cell_type": "markdown",
      "metadata": {
        "id": "n0JXnu7Qjdee"
      },
      "source": [
        "### 4.4  Estimate path radius using longitudinal acceleration and yaw velocity\n",
        "\n",
        "- In Section 4.2 a time history of the instantaneous radius $r$ of the vehicle's path was estimated using the longitudinal velocity $v_x$ derived from the measured encoder signal, and using the measured yaw velocity $\\omega_z$ from the IMU:\n",
        "\n",
        "$$ r=\\frac{v_x}{\\omega_z}$$\n",
        "\n",
        "- In this section a similar calculation of path radius is performed, but the longitudinal velocity $v_x$ is determined instead by integrating the longitudinal acceleration (from the IMU).\n",
        "- The first step is to determine the acceleration offset required to ensure zero velocity when the vehicle is stationary at the end of the run.\n",
        "- Run the next cell to integrate longitudal acceleration (from the IMU) and plot a graph of the longitudinal velocity $v_x$. Do not change the value of 'axoffset' at this stage."
      ]
    },
    {
      "cell_type": "code",
      "metadata": {
        "id": "372tmAafjdee"
      },
      "source": [
        "axoffset = 0.00  # EDIT THIS VALUE TO COMPENSATE OFFSET IN THE LONGITUDINAL ACCELERATION SIGNAL (default is 0.00 m/s/s)\n",
        "\n",
        "# DO NOT CHANGE ANYTHING BELOW THIS LINE\n",
        "\n",
        "axo = ax+axoffset\n",
        "vx = integrate.cumtrapz(axo, t, initial=0)\n",
        "\n",
        "fig7=plt.figure(7,figsize=(9.5,6)) \n",
        "plt.subplot(211)\n",
        "plt.title('axoffset=%.2f m/s/s' %axoffset)\n",
        "plt.ylabel(r'$ long. accn. a_x\\ /\\ \\rm{m \\ s^{-2}}$')\n",
        "plt.plot(t,axo)\n",
        "plt.subplot(212)\n",
        "plt.ylabel(r'long. vel. $/\\ \\rm{m \\ s^{-1}}$')\n",
        "plt.xlabel(r'time $t\\ /\\ \\rm{s}$')  \n",
        "plt.plot(t,vx)\n",
        "fig7.text(0.5,0.5,watermark,fontsize=70,color='gray',ha='center',va='center',rotation=45,alpha=0.15)\n",
        "plt.show()"
      ],
      "execution_count": null,
      "outputs": []
    },
    {
      "cell_type": "markdown",
      "metadata": {
        "id": "6G-PT329jdee"
      },
      "source": [
        "- Examine the final longitudinal velocity in the bottom graph. Now edit the value of 'axoffset' in the cell above to bring the final velocity to zero.\n",
        "\n",
        "#### Q7. What value of offset did you use? Is it different to the value used for Figure 3 and Question 3b? Why?\n",
        "\n",
        "- Run the next cell to save Figure 7 (existing files with the same name will be overwritten without warning)."
      ]
    },
    {
      "cell_type": "code",
      "metadata": {
        "id": "qsxNr-r_jdef"
      },
      "source": [
        "# Use this cell to save figure 7\n",
        "if 'fig7' in globals():\n",
        "  fig7.savefig(\"fig7pdf.pdf\")\n",
        "  fig7.savefig(\"fig7png.png\")\n",
        "  print('Figure 7 saved')\n",
        "else: print('Error: Figure not defined')"
      ],
      "execution_count": null,
      "outputs": []
    },
    {
      "cell_type": "code",
      "metadata": {
        "id": "ohjMvJjNFRpX"
      },
      "source": [
        "# Google colabs only: then use this cell to download figure 7\n",
        "# You may get a browser pop up asking for permission to download (multiple) files - if so, you should grant permission.\n",
        "from google.colab import files\n",
        "files.download('fig7pdf.pdf')\n",
        "files.download('fig7png.png')"
      ],
      "execution_count": null,
      "outputs": []
    },
    {
      "cell_type": "markdown",
      "metadata": {
        "id": "vo-Cs0eBjdef"
      },
      "source": [
        "- Now that the lateral acceleration offset is compensated, a time history of the radius $r$ of the vehicle's path can be obtained from the longitudinal velocity $v_x$ and yaw velocity $\\omega_z$:\n",
        "\n",
        "$$ r=\\frac{v_x}{\\omega_z}$$\n",
        "\n",
        "- The next cell plots three graphs: the longitudinal velocity $v_x$ (integrated longitudinal acceleration of the IMU); the yaw velocity $\\omega_z$ (from the IMU); and the radius $ r=\\frac{v_x}{\\omega_z}$.\n",
        "- The dashed line in the bottom graph is the average radius calculated previously in Section 4.1.\n",
        "- Note that some values of $r$ might not be plotted if there is a divide by zero condition. "
      ]
    },
    {
      "cell_type": "code",
      "metadata": {
        "scrolled": true,
        "id": "6ibJpdlGjdef"
      },
      "source": [
        "ymax=0.5    # EDIT THIS TO SPECIFY THE MAXIMUM RADIUS ON THE VERTICAL AXIS (default is 0.5 m)\n",
        "ymin=-0.5   # EDIT THIS TO SPECIFY THE MINIMUM RADIUS ON THE VERTICAL AXIS (default is -0.5 m)\n",
        "\n",
        "# DO NOT CHANGE ANYTHING BELOW THIS LINE\n",
        "\n",
        "plt.close(0) # close figure 0 if current\n",
        "np.warnings.filterwarnings('ignore') # suppresses divide by zero warnings\n",
        "r=np.divide(vx,omegazscaled)\n",
        "\n",
        "fig8=plt.figure(8,figsize=(9.5,6)) \n",
        "plt.subplot(311)\n",
        "plt.title('axoffset=%.2f m/s/s, omegazscaling=%.2f, average path radius (dashed)=%.4f m,' %(axoffset, omegazscaling, averagerad))\n",
        "plt.ylabel(r'long. vel. $/\\ \\rm{m \\ s^{-1}}$')\n",
        "plt.plot(t,vx)\n",
        "plt.subplot(312)\n",
        "plt.ylabel(r'yaw vel. $/\\ \\rm{rad \\ s^{-1}}$')\n",
        "plt.plot(t,omegazscaled)\n",
        "plt.subplot(313)\n",
        "plt.ylim(ymin,ymax)\n",
        "plt.ylabel(r'radius $/\\ \\rm{m}$')\n",
        "plt.xlabel(r'time $t\\ /\\ \\rm{s}$')      \n",
        "plt.plot(t,r)\n",
        "plt.plot(t,averagerad*np.ones_like(t),linestyle='--')\n",
        "fig8.text(0.5,0.5,watermark,fontsize=70,color='gray',ha='center',va='center',rotation=45,alpha=0.15)\n",
        "plt.show()"
      ],
      "execution_count": null,
      "outputs": []
    },
    {
      "cell_type": "markdown",
      "metadata": {
        "id": "6s47jHuJjdef"
      },
      "source": [
        "#### Q8. Comment on the whole time history of radius (solid line) in the bottom graph, and compare it to the average path radius calculated in Section 4.1 (dashed line).\n",
        "> #### In particular, comment on regions where there is agreement and where there is discrepancy, and compare to the bottom graph of Figures 5 and 6.\n",
        "> #### You may need to adjust the range of the vertical axis in the last graph; edit the ymax and ymin values in the cell.\n",
        "> #### Remember that the encoder measures the distance travelled by the left hand rear wheel, and that the IMU is located on the longitudinal centreline of the car; what effect does this have on the calculated path radii? \n",
        "\n",
        "- When you have answered Question 8 run the next cell to save Figure 8 (existing files with the same name will be overwritten without warning)."
      ]
    },
    {
      "cell_type": "code",
      "metadata": {
        "id": "Rz3N9R_ujdeg"
      },
      "source": [
        "# Use this cell to save figure 8\n",
        "if 'fig8' in globals():\n",
        "  fig8.savefig(\"fig8pdf.pdf\")\n",
        "  fig8.savefig(\"fig8png.png\")\n",
        "  print('Figure 8 saved')\n",
        "else: print('Error: Figure not defined')"
      ],
      "execution_count": null,
      "outputs": []
    },
    {
      "cell_type": "code",
      "metadata": {
        "id": "WGE_y6zcFW-B"
      },
      "source": [
        "# Google colabs only: then use this cell to download figure 8\n",
        "# You may get a browser pop up asking for permission to download (multiple) files - if so, you should grant permission.\n",
        "from google.colab import files\n",
        "files.download('fig8pdf.pdf')\n",
        "files.download('fig8png.png')"
      ],
      "execution_count": null,
      "outputs": []
    },
    {
      "cell_type": "markdown",
      "metadata": {
        "id": "MIf-9Jpojdeg"
      },
      "source": [
        "- Two other combinations of the signals measured by the IMU can be used to estimate path radius, but they will not be examined in this experiment. The combinations are:\n",
        ">- Integrate longitudinal acceleration to longitudinal velocity, then divide longitudinal velocity squared by lateral acceleration.\n",
        ">- Divide lateral acceleration by yaw velocity squared."
      ]
    },
    {
      "cell_type": "markdown",
      "metadata": {
        "id": "Sk9mORT3jdeg"
      },
      "source": [
        "## 5. Arbitrary path\n",
        "\n",
        "- In this section you will: examine data for the vehicle travelling along an arbitrary path; calculate and plot the car's path using the measured data; generate Figure 9; and answer Question 9.\n",
        " \n",
        " \n",
        "- Run the [recording/plotting cell](#record-data), and move the car along an arbitraty path.\n",
        "- Ensure that the vehicle starts and finishes in exactly the same position and exactly the same angle so that you can easily check the accuracy of the calculation of the car's path using the measured data.\n",
        "\n",
        "\n",
        "- As with the circular motion analysis in Section 4, there are several combinations of measurements that can be used to reconstruct the car's path.\n",
        "- The wheel encoder and yaw velocity will be used, to avoid the problems associated with offset of the acceleration signals.\n",
        "- The next cell calculates and plots the position of the car at every time step in ground-fixed axes X and Y, where the origin is the position of the car at the start of the run (zero time) and the ground-fixed X-axis is aligned with the vehicle-fixed longitudinal x-axis at the start of the run.\n",
        "- The calculation involves determining the incremental displacement in X and Y directions at each time step.\n",
        "- First, increments in displacement along the vehicle's longitudinal x-axis at each time step are calculated by using the numpy 'diff' function on the distance array from the encoder data.\n",
        "- The incremental displacements are multiplied by cosine of the corresponding yaw angles (from the IMU data) at each time step to give the incremental distances in the X direction.\n",
        "- The incremental displacements are multiplied by sine of the yaw angles to give the incremental distances in the Y direction.\n",
        "- The incremental X and Y displacements are then added cumulatively (using the numpy 'accumulate' function) to give the X and Y coordinates at each time step.\n",
        "\n",
        "\n",
        "- Run the next cell to perform this calculation and plot the path of the car.\n",
        "- The start of the path is indicated with a green circle and the end of the path is indicated with a red circle."
      ]
    },
    {
      "cell_type": "code",
      "metadata": {
        "id": "dXio0E8nydXx",
        "colab": {
          "base_uri": "https://localhost:8080/",
          "height": 428
        },
        "outputId": "28f74a77-9fdd-4109-94fd-ab68580b297d"
      },
      "source": [
        "#Video Cell. You may need to run this cell to load the video before you can play it\n",
        "HTML('<iframe src=\"https://cambridgelectures.cloud.panopto.eu/Panopto/Pages/Embed.aspx?id=c26cd09f-7c61-4236-81c6-acb100b0e52c&autoplay=false&offerviewer=true&showtitle=true&showbrand=false&start=0&interactivity=all\" height=\"405\" width=\"720\" style=\"border: 1px solid #464646;\" allowfullscreen allow=\"autoplay\"></iframe>')"
      ],
      "execution_count": 12,
      "outputs": [
        {
          "output_type": "execute_result",
          "data": {
            "text/html": [
              "<iframe src=\"https://cambridgelectures.cloud.panopto.eu/Panopto/Pages/Embed.aspx?id=c26cd09f-7c61-4236-81c6-acb100b0e52c&autoplay=false&offerviewer=true&showtitle=true&showbrand=false&start=0&interactivity=all\" height=\"405\" width=\"720\" style=\"border: 1px solid #464646;\" allowfullscreen allow=\"autoplay\"></iframe>"
            ],
            "text/plain": [
              "<IPython.core.display.HTML object>"
            ]
          },
          "metadata": {
            "tags": []
          },
          "execution_count": 12
        }
      ]
    },
    {
      "cell_type": "code",
      "metadata": {
        "id": "y_6a3JM6jdeg"
      },
      "source": [
        "#Data load cell\n",
        "[axlist, aylist, omegazlist, counterlist,tlist] = loadtxt('https://raw.githubusercontent.com/CambridgeEngineering/PartIA-Mechanics-Labs/main/IA_vehicle_motion/dataarb.csv', delimiter=',').tolist()\n",
        "print('Arbitrary path data loaded')"
      ],
      "execution_count": null,
      "outputs": []
    },
    {
      "cell_type": "code",
      "metadata": {
        "scrolled": false,
        "id": "iJ-bWL6ejdeg"
      },
      "source": [
        "# DO NOT CHANGE ANYTHING BELOW THIS LINE\n",
        "\n",
        "plt.close(0) # close figure 0 if current\n",
        "\n",
        "\n",
        "t=np.array(tlist)   # convert lists to numpy arrays\n",
        "ax=np.array(axlist)  \n",
        "ay=np.array(aylist)\n",
        "omegaz=np.array(omegazlist) \n",
        "counter=np.array(counterlist)\n",
        "\n",
        "    \n",
        "# calculate global coordinates at each time step\n",
        "t=t-t[0] # subtract first element of the array from the whole array so that the plot starts at 0 s.\n",
        "counter=counter-counter[0] # subtract first element of the array from the whole array so that the counter starts at 0.\n",
        "ppr=128 # pulses per revolution of the encoder\n",
        "sxcount=(counter/ppr)*(wheeldia*np.pi)\n",
        "dsxcount=np.zeros_like(sxcount)\n",
        "dsxcount[1:]=np.diff(sxcount)\n",
        "omegazscaled=omegaz*omegazscaling\n",
        "thetaz = integrate.cumtrapz(omegazscaled, t, initial=0) # integrate omegaz to find angular displacement thetaz\n",
        "\n",
        "globalx=np.add.accumulate(np.multiply(dsxcount,np.cos(thetaz)))\n",
        "globaly=np.add.accumulate(np.multiply(dsxcount,np.sin(thetaz)))\n",
        "    \n",
        "fig9=plt.figure(9,figsize=(9.5,6))\n",
        "plt.xlabel(r'ground-fixed $X\\ /\\ \\rm{m}$')\n",
        "plt.ylabel(r'ground-fixed $Y\\ /\\ \\rm{m}$')\n",
        "plt.axis('equal')\n",
        "plt.plot(globalx,globaly)\n",
        "plt.plot(globalx[0],globaly[0],'go')\n",
        "plt.plot(globalx[-1],globaly[-1],'ro')\n",
        "fig9.text(0.5,0.5,watermark,fontsize=70,color='gray',ha='center',va='center',rotation=45,alpha=0.15)\n",
        "plt.show()  "
      ],
      "execution_count": null,
      "outputs": []
    },
    {
      "cell_type": "markdown",
      "metadata": {
        "id": "ZTSb01Ypjdeh"
      },
      "source": [
        "#### Q9a. Comment on Figure 9. Is it what you expected? Why?\n",
        "\n",
        "#### Q9b. What other combinations of measured signals could be used to measure the path of the car? Would they give better or worse accuracy than the encoder and yaw velocity signals used for Figure 9? Why?\n",
        "\n",
        "- When you have answered Question 9 run the next cell to save Figure 9 (existing files with the same name will be overwritten without warning)."
      ]
    },
    {
      "cell_type": "code",
      "metadata": {
        "id": "OTc2nHmXjdeh"
      },
      "source": [
        "# Use this cell to save figure 9\n",
        "if 'fig9' in globals():\n",
        "  fig9.savefig(\"fig9pdf.pdf\")\n",
        "  fig9.savefig(\"fig9png.png\")\n",
        "  print('Figure 9 saved')\n",
        "else: print('Error: Figure not defined')"
      ],
      "execution_count": null,
      "outputs": []
    },
    {
      "cell_type": "code",
      "metadata": {
        "id": "P_dSle-5FaUf"
      },
      "source": [
        "# Google colabs only: then use this cell to download figure 9\n",
        "# You may get a browser pop up asking for permission to download (multiple) files - if so, you should grant permission.\n",
        "from google.colab import files\n",
        "files.download('fig9pdf.pdf')\n",
        "files.download('fig9png.png')"
      ],
      "execution_count": null,
      "outputs": []
    },
    {
      "cell_type": "markdown",
      "metadata": {
        "id": "fbdDUHTHjdeh"
      },
      "source": [
        "## 6. Download the Figure files\n",
        "\n",
        "- When you have saved Figures 1 to 9, you need to download them to your local machine so you can use them in your report.\n",
        "- If you are using google colabs then you can do this by running the \"download\" cell beneath each save cell. Hopefully you have been doing this as you go through the notebook.\n",
        "- If you are runing the python locally, try to identify where in your file system the notebook has been saving the files - probably in the same directory as the notebook is located. If it's not obvious, try searching your disk for \"fig1pdf.pdf\"\n",
        "- If you cannot work out how to download the figures, you can download them individually from your browser by right clicking on them and selecting \"Save Image As\" (or similar depending on browser). \n",
        "- If all else fails, there is always screenshot. "
      ]
    },
    {
      "cell_type": "markdown",
      "metadata": {
        "id": "AVC8QBhIjdeh"
      },
      "source": [
        "## 7. Written report\n",
        "\n",
        "- Prepare a report of the experiment. This should take about two hours.\n",
        "- A formal technical report (as undertaken in your exposition class) is NOT required.\n",
        "- Instead, prepare a document that could be used as the basis of an oral presentation to an audience that is familiar with the objectives and method of the experiment, but unfamiliar with the results and conclusions.\n",
        "- The report can be prepared in your lab notebook or using a computer program such as Microsoft Office, Libre Office or LateX.\n",
        "- Refer to this notebook on Moodle when writing your report, to ensure that all the required Figures are included and all the questions are addressed.\n",
        "\n",
        "\n",
        "- The first (title) page should state your name, college, lab group number, name of the experiment, date of the experiment, and the number of the car that you used (1 to 8).\n",
        "- The main body of the report should consist of one A4 page (portrait) for each of Figures 1 to 9.\n",
        "- Place the Figure in the upper half of the page, and immediately below each Figure give a Figure number (1 to 9) and an informative title.\n",
        "- In the lower half of the page write a number of bullet points that describe the Figure and the conclusions that can be drawn from it (imagine that these bullet points would form the basis of an oral presentation).\n",
        "- Include in your bullet points the answers to Questions 1 to 9.\n",
        "- The last (conclusion) page should state the main conclusions as bullet points.\n",
        "- The bullet points should be concise (phrases or short sentences, not paragraphs!)\n",
        "- Remember that the report should be written individually and not in collaboration with your lab partner.\n",
        "\n",
        "\n",
        "- Sign up as a lab group for a marking session to take place within 15 days of performing the experiment, one 15min time slot per lab group.\n",
        "- Sign up is on the moodle site: https://www.vle.cam.ac.uk/course/view.php?id=217431\n",
        "- It is recommended that you sign up on the day of the experiment; don't wait until you have finished writing the report since there may be no suitable slots remaining.\n",
        "- Sign up at least 24hours before the session otherwise the marker will not attend.\n",
        "- Marking takes place on teams - look on the modle site to find the right link.\n",
        "- Submit your report electronically on the moodle site before your marking session."
      ]
    },
    {
      "cell_type": "markdown",
      "metadata": {
        "id": "oLlbJ8Ebjdei"
      },
      "source": [
        "## Appendix - Links to further information about the equipment\n",
        "\n",
        "Inertial measurement unit:\n",
        "\n",
        "https://www.bosch-sensortec.com/bst/products/all_products/bno055\n",
        "\n",
        "https://learn.adafruit.com/adafruit-bno055-absolute-orientation-sensor/overview\n",
        "\n",
        "Rotary optical encoder:\n",
        "\n",
        "https://www.bourns.com/docs/default-document-library/enc1j.pdf?sfvrsn=2c0f9df1_0\n",
        "\n",
        "https://playground.arduino.cc/Main/RotaryEncoders\n",
        "\n",
        "Arduino:\n",
        "\n",
        "https://www.arduino.cc/"
      ]
    }
  ]
}